{
 "cells": [
  {
   "cell_type": "code",
   "execution_count": null,
   "id": "007cf15c",
   "metadata": {},
   "outputs": [],
   "source": [
    "import pandas as pd\n",
    "import numpy as np\n",
    "import matplotlib.pyplot as plt\n",
    "import seaborn as sns"
   ]
  },
  {
   "cell_type": "code",
   "execution_count": null,
   "id": "47f07316",
   "metadata": {},
   "outputs": [],
   "source": [
    "data = pd.read_csv('/Users/luisfelipemh/Desktop/Personal/python_study_ML/zomato.csv')"
   ]
  },
  {
   "cell_type": "code",
   "execution_count": null,
   "id": "bd7c4ffa",
   "metadata": {},
   "outputs": [],
   "source": [
    "data.shape"
   ]
  },
  {
   "cell_type": "code",
   "execution_count": null,
   "id": "8bf40e33",
   "metadata": {},
   "outputs": [],
   "source": [
    "data.columns"
   ]
  },
  {
   "cell_type": "code",
   "execution_count": null,
   "id": "67d011bd",
   "metadata": {},
   "outputs": [],
   "source": [
    "#through this way \n",
    "(data.isna().sum()/data.shape[0])*100"
   ]
  },
  {
   "cell_type": "code",
   "execution_count": null,
   "id": "109146e0",
   "metadata": {},
   "outputs": [],
   "source": [
    "True in data[\"url\"].isna().tolist()"
   ]
  },
  {
   "cell_type": "code",
   "execution_count": null,
   "id": "002d1f2a",
   "metadata": {},
   "outputs": [],
   "source": [
    "for column in data.columns:\n",
    "    if True in data[column].isna().tolist():\n",
    "        print(str(column) + \"has the following percentage of NaN values: \" + str((data[column].isna().sum()/data[column].shape[0])*100)+\"%\")\n",
    "    else:\n",
    "        print(column, \"hasn't Nan values\")"
   ]
  },
  {
   "cell_type": "code",
   "execution_count": null,
   "id": "d23373b0",
   "metadata": {},
   "outputs": [],
   "source": [
    "#get a dictionary of sum of null values\n",
    "null_dict={column:[data[column].isna().sum(),data[column].isna().sum()/data[column].shape[0]*100]\n",
    " for column in data.columns if data[column].isna().sum()>0}"
   ]
  },
  {
   "cell_type": "code",
   "execution_count": null,
   "id": "508cdb1c",
   "metadata": {},
   "outputs": [],
   "source": [
    "sorted(null_dict.items(), key=lambda x: x[1][0], reverse=False)"
   ]
  },
  {
   "cell_type": "code",
   "execution_count": null,
   "id": "49f0c767",
   "metadata": {},
   "outputs": [],
   "source": [
    "l=[]\n",
    "for k,v in null_dict.items():\n",
    "    l.append(null_dict[k][0])"
   ]
  },
  {
   "cell_type": "code",
   "execution_count": null,
   "id": "c7a46ba3",
   "metadata": {},
   "outputs": [],
   "source": [
    "print(l)"
   ]
  },
  {
   "cell_type": "code",
   "execution_count": null,
   "id": "9d3e954d",
   "metadata": {},
   "outputs": [],
   "source": [
    "data.head(n=5)"
   ]
  },
  {
   "cell_type": "code",
   "execution_count": null,
   "id": "54f3ce3a",
   "metadata": {},
   "outputs": [],
   "source": [
    "#lambda function for give me unique values\n",
    "unique_values=lambda x,y:x[y].unique()"
   ]
  },
  {
   "cell_type": "code",
   "execution_count": null,
   "id": "d442487c",
   "metadata": {},
   "outputs": [],
   "source": [
    "unique_values(data,'approx_cost(for two people)')"
   ]
  },
  {
   "cell_type": "code",
   "execution_count": null,
   "id": "18bbff73",
   "metadata": {},
   "outputs": [],
   "source": [
    "#the challenge is convert the strings into numbers"
   ]
  },
  {
   "cell_type": "code",
   "execution_count": null,
   "id": "79e8e577",
   "metadata": {},
   "outputs": [],
   "source": [
    "for i in data['approx_cost(for two people)']:\n",
    "    print(str(i).replace(\",\",\"\"))"
   ]
  },
  {
   "cell_type": "code",
   "execution_count": null,
   "id": "bbb04f50",
   "metadata": {},
   "outputs": [],
   "source": [
    "def reemplazador(x):\n",
    "    return x.replace(\",\",\"\")"
   ]
  },
  {
   "cell_type": "code",
   "execution_count": null,
   "id": "92b5df1b",
   "metadata": {},
   "outputs": [],
   "source": [
    "def reemplazador2(x):\n",
    "    if \"a\" in str(x):\n",
    "        return 0\n",
    "    else:\n",
    "        a = int(x.replace(\",\",\"\"))\n",
    "        return a"
   ]
  },
  {
   "cell_type": "code",
   "execution_count": null,
   "id": "707e49ee",
   "metadata": {},
   "outputs": [],
   "source": [
    "#astype: cast a pandas object to a specified dtype\n",
    "data[\"approx_cost(for two people)\"].astype(str).apply(lambda x: x.replace(\",\",\"\")).tolist()"
   ]
  },
  {
   "cell_type": "code",
   "execution_count": null,
   "id": "7a251b81",
   "metadata": {},
   "outputs": [],
   "source": [
    "data[\"approx_cost(for two people)\"]=data[\"approx_cost(for two people)\"].astype(str).apply(lambda x: reemplazador2(x))"
   ]
  },
  {
   "cell_type": "code",
   "execution_count": null,
   "id": "8efcd190",
   "metadata": {},
   "outputs": [],
   "source": [
    "data[\"rate\"]"
   ]
  },
  {
   "cell_type": "code",
   "execution_count": null,
   "id": "35b079ec",
   "metadata": {},
   "outputs": [],
   "source": [
    "#{(i,len(i)) for i in data[\"rate\"].unique() if type(i)==str}"
   ]
  },
  {
   "cell_type": "code",
   "execution_count": null,
   "id": "24e8f0e3",
   "metadata": {},
   "outputs": [],
   "source": [
    "#[float(i[0:3]) for i in data[\"rate\"].unique() if type(i)==str and len(i)==5]"
   ]
  },
  {
   "cell_type": "code",
   "execution_count": null,
   "id": "5ff753cd",
   "metadata": {},
   "outputs": [],
   "source": [
    "def rate_conversor(x):\n",
    "    if (len(x)==5 or len(x)==6) and type(x)==str:\n",
    "        x = float(x[0:3])\n",
    "        return x\n",
    "    else:\n",
    "        x = 0\n",
    "        return x       "
   ]
  },
  {
   "cell_type": "code",
   "execution_count": null,
   "id": "a1f7d7d5",
   "metadata": {},
   "outputs": [],
   "source": [
    "#The Astype function its very important to convert strings into floats\n",
    "data[\"rate\"]=data[\"rate\"].astype(str).apply(lambda x: rate_conversor(x))"
   ]
  },
  {
   "cell_type": "code",
   "execution_count": null,
   "id": "e0ee2b75",
   "metadata": {},
   "outputs": [],
   "source": [
    "data[\"rate\"].unique()"
   ]
  },
  {
   "cell_type": "code",
   "execution_count": null,
   "id": "c52bf4c2",
   "metadata": {},
   "outputs": [],
   "source": [
    "#other option is : data=data.astype(float)"
   ]
  },
  {
   "cell_type": "code",
   "execution_count": null,
   "id": "7ef5c06e",
   "metadata": {},
   "outputs": [],
   "source": [
    "data[\"rest_type\"].unique()"
   ]
  },
  {
   "cell_type": "code",
   "execution_count": null,
   "id": "a9094b80",
   "metadata": {},
   "outputs": [],
   "source": [
    "data.groupby(\"rest_type\").count().reset_index()[[\"rest_type\",\"url\"]].sort_values(by=[\"url\"], ascending=False).head(n=40)"
   ]
  },
  {
   "cell_type": "code",
   "execution_count": null,
   "id": "0321947d",
   "metadata": {},
   "outputs": [],
   "source": [
    "data[\"rest_type\"].value_counts().nlargest(20).plot.bar(color=\"Red\")"
   ]
  },
  {
   "cell_type": "code",
   "execution_count": null,
   "id": "31864f79",
   "metadata": {},
   "outputs": [],
   "source": [
    "#challenge, we saw the chart, we will use onlthe two first features, for the other \n",
    "#we are going to name them as \"other\"\n",
    "def bites_casual(x):\n",
    "    if x=='Quick Bites' or x=='Casual Dining':\n",
    "        return 'Quick Bites + Casual Dining'\n",
    "    else:\n",
    "        return 'other'"
   ]
  },
  {
   "cell_type": "code",
   "execution_count": null,
   "id": "03c6403c",
   "metadata": {},
   "outputs": [],
   "source": [
    "data[\"rest_type\"]=data[\"rest_type\"].apply(lambda x: bites_casual(x))"
   ]
  },
  {
   "cell_type": "code",
   "execution_count": null,
   "id": "f516a563",
   "metadata": {},
   "outputs": [],
   "source": [
    "import plotly.express as px"
   ]
  },
  {
   "cell_type": "code",
   "execution_count": null,
   "id": "d5780231",
   "metadata": {},
   "outputs": [],
   "source": [
    "data.dtypes"
   ]
  },
  {
   "cell_type": "code",
   "execution_count": null,
   "id": "e4bc7a3c",
   "metadata": {},
   "outputs": [],
   "source": [
    "data.head(n=2)"
   ]
  },
  {
   "cell_type": "code",
   "execution_count": null,
   "id": "226de13a",
   "metadata": {},
   "outputs": [],
   "source": [
    "#we can make a dynamic table, as follows this example\n",
    "rest=data.groupby(\"name\").agg({\"votes\":\"sum\",'url':'count','approx_cost(for two people)':'mean'\n",
    "                         ,\"rate\":\"mean\"}).reset_index()"
   ]
  },
  {
   "cell_type": "code",
   "execution_count": null,
   "id": "8a38aa4b",
   "metadata": {},
   "outputs": [],
   "source": [
    "rest.columns=['name','total_votes','total_unities','avg_approx_cost','mean_rating']"
   ]
  },
  {
   "cell_type": "code",
   "execution_count": null,
   "id": "d0c03189",
   "metadata": {},
   "outputs": [],
   "source": [
    "rest.head()"
   ]
  },
  {
   "cell_type": "code",
   "execution_count": null,
   "id": "400a0333",
   "metadata": {},
   "outputs": [],
   "source": [
    "rest['votes_per_unity']=rest['total_votes']/rest['total_unities']"
   ]
  },
  {
   "cell_type": "code",
   "execution_count": null,
   "id": "f846808d",
   "metadata": {},
   "outputs": [],
   "source": [
    "rest=rest.sort_values(by='mean_rating',ascending=False)"
   ]
  },
  {
   "cell_type": "code",
   "execution_count": null,
   "id": "a42d6383",
   "metadata": {},
   "outputs": [],
   "source": [
    "# (1,3) 3 figuras horizontales\n",
    "# (3,1) 3 figuras verticales\n",
    "#fig, (ax1,ax2,ax2)=plt.subplots(3,1,figsize=(20,30))\n",
    "#ax1.text(0.5,0.95,\"hp\")"
   ]
  },
  {
   "cell_type": "code",
   "execution_count": null,
   "id": "3c030a84",
   "metadata": {},
   "outputs": [],
   "source": [
    "#find the best budget restaurant."
   ]
  },
  {
   "cell_type": "code",
   "execution_count": null,
   "id": "41522bef",
   "metadata": {},
   "outputs": [],
   "source": [
    "data.head()"
   ]
  },
  {
   "cell_type": "code",
   "execution_count": null,
   "id": "f59f6cc8",
   "metadata": {},
   "outputs": [],
   "source": [
    "data[(data[\"approx_cost(for two people)\"]<=400) & (data[\"location\"]==\"BTM\") & (data[\"rate\"]>=4)] "
   ]
  },
  {
   "cell_type": "code",
   "execution_count": null,
   "id": "3e5fb27e",
   "metadata": {},
   "outputs": [],
   "source": [
    "data.head()"
   ]
  },
  {
   "cell_type": "code",
   "execution_count": null,
   "id": "fc25d305",
   "metadata": {},
   "outputs": [],
   "source": [
    "from wordcloud import WordCloud, STOPWORDS"
   ]
  },
  {
   "cell_type": "code",
   "execution_count": null,
   "id": "ceebb901",
   "metadata": {},
   "outputs": [],
   "source": [
    "data[\"reviews_list\"]"
   ]
  },
  {
   "cell_type": "code",
   "execution_count": null,
   "id": "e9976c28",
   "metadata": {},
   "outputs": [],
   "source": [
    "lista=[]\n",
    "for i in data[\"reviews_list\"]:\n",
    "    lista.append(type(i))"
   ]
  },
  {
   "cell_type": "code",
   "execution_count": null,
   "id": "97f85621",
   "metadata": {},
   "outputs": [],
   "source": [
    "def unicos_list(lista):\n",
    "    unique_list=[]\n",
    "    for x in lista:\n",
    "        if x not in unique_list:\n",
    "            unique_list.append(x)\n",
    "    for x in unique_list:\n",
    "        print(x)"
   ]
  },
  {
   "cell_type": "code",
   "execution_count": null,
   "id": "d319a0c1",
   "metadata": {},
   "outputs": [],
   "source": [
    "unicos_list(lista)"
   ]
  },
  {
   "cell_type": "code",
   "execution_count": null,
   "id": "0ea774e6",
   "metadata": {},
   "outputs": [],
   "source": [
    "for comment in data[\"dish_liked\"]:\n",
    "    if type(comment)!=float:\n",
    "        print(comment.split())"
   ]
  },
  {
   "cell_type": "code",
   "execution_count": null,
   "id": "5ade7bad",
   "metadata": {},
   "outputs": [],
   "source": [
    "prueba1=['Pasta,', 'Lunch', 'Buffet,', 'Masala', 'Papad,', 'Paneer', 'Lajawab,', 'Tomato', 'Shorba,', 'Dum', 'Biryani,', 'Sweet', 'Corn', 'Soup']\n",
    "prueba2=['Momos,', 'Lunch', 'Buffet,', 'Chocolate', 'Nirvana,', 'Thai', 'Green', 'Curry,', 'Paneer', 'Tikka,', 'Dum', 'Biryani,', 'Chicken', 'Biryani']"
   ]
  },
  {
   "cell_type": "code",
   "execution_count": null,
   "id": "f89850ae",
   "metadata": {},
   "outputs": [],
   "source": [
    "\" \".join(prueba1)"
   ]
  },
  {
   "cell_type": "code",
   "execution_count": null,
   "id": "37742ff7",
   "metadata": {},
   "outputs": [],
   "source": [
    "#for comment in data[\"dish_liked\"]:\n",
    "    #if type(comment)!=float:\n",
    "        #print(comment.split())\n",
    "        #for i in comment:\n",
    "            #print(i)"
   ]
  },
  {
   "cell_type": "code",
   "execution_count": null,
   "id": "af9f7322",
   "metadata": {},
   "outputs": [],
   "source": [
    "for comment in data[\"dish_liked\"]:\n",
    "    if type(comment)!=float:\n",
    "        words=comment.split()\n",
    "        print(words)\n",
    "    elif type(comment)==float:\n",
    "        words=str(comment).split()\n",
    "        print(words)"
   ]
  },
  {
   "cell_type": "code",
   "execution_count": null,
   "id": "c99c5a8e",
   "metadata": {},
   "outputs": [],
   "source": [
    "total=\"\"\n",
    "for comment in data[\"dish_liked\"].astype(str):\n",
    "    words=comment.split()\n",
    "    for index in range(len(words)): #words is a list\n",
    "        words[index]=words[index].lower()       \n",
    "    total=total+\" \".join(words).replace(\",\",\"\")"
   ]
  },
  {
   "cell_type": "code",
   "execution_count": null,
   "id": "3ed4d8c8",
   "metadata": {},
   "outputs": [],
   "source": [
    "total"
   ]
  },
  {
   "cell_type": "code",
   "execution_count": null,
   "id": "e110ad4e",
   "metadata": {},
   "outputs": [],
   "source": [
    "a_list = [\"a \", \"b \", \"c\"]"
   ]
  },
  {
   "cell_type": "code",
   "execution_count": null,
   "id": "47ea6183",
   "metadata": {},
   "outputs": [],
   "source": [
    "for index in range(len(a_list)):\n",
    "    print(a_list[index])"
   ]
  },
  {
   "cell_type": "code",
   "execution_count": null,
   "id": "f95d8b3e",
   "metadata": {},
   "outputs": [],
   "source": [
    "for item in a_list:\n",
    "    print(item)"
   ]
  },
  {
   "cell_type": "code",
   "execution_count": null,
   "id": "b4c45820",
   "metadata": {},
   "outputs": [],
   "source": [
    "prueba=total.split(\" \")"
   ]
  },
  {
   "cell_type": "code",
   "execution_count": null,
   "id": "36966341",
   "metadata": {},
   "outputs": [],
   "source": [
    "{k,v}"
   ]
  },
  {
   "cell_type": "code",
   "execution_count": null,
   "id": "8f206aa7",
   "metadata": {},
   "outputs": [],
   "source": [
    "prueba=[\"pips\",\"pips\",\"pips\",\"mits\",\"mits\",\"sep\"]"
   ]
  },
  {
   "cell_type": "code",
   "execution_count": null,
   "id": "8f7cab23",
   "metadata": {},
   "outputs": [],
   "source": [
    "unique_list=[]\n",
    "for x in lista:\n",
    "    if x not in unique_list:\n",
    "        unique_list.append(x)\n",
    "for x in unique_list:\n",
    "    print(x)"
   ]
  },
  {
   "cell_type": "code",
   "execution_count": null,
   "id": "f243554d",
   "metadata": {},
   "outputs": [],
   "source": [
    "wordfreq={}\n",
    "for raw_word in prueba:\n",
    "    word = raw_word.strip(\".,-_\")\n",
    "    if word not in wordfre:\n",
    "        wordfreq[word] = 0 \n",
    "    wordfreq[word] += 1"
   ]
  },
  {
   "cell_type": "code",
   "execution_count": null,
   "id": "342e823e",
   "metadata": {},
   "outputs": [],
   "source": [
    "prueba.count(\"pips\")"
   ]
  },
  {
   "cell_type": "code",
   "execution_count": null,
   "id": "5ecc69d7",
   "metadata": {},
   "outputs": [],
   "source": [
    "{i:prueba.count(i) for i in prueba}"
   ]
  },
  {
   "cell_type": "code",
   "execution_count": null,
   "id": "d46447b9",
   "metadata": {},
   "outputs": [],
   "source": []
  }
 ],
 "metadata": {
  "kernelspec": {
   "display_name": "Python 3",
   "language": "python",
   "name": "python3"
  },
  "language_info": {
   "codemirror_mode": {
    "name": "ipython",
    "version": 3
   },
   "file_extension": ".py",
   "mimetype": "text/x-python",
   "name": "python",
   "nbconvert_exporter": "python",
   "pygments_lexer": "ipython3",
   "version": "3.8.8"
  }
 },
 "nbformat": 4,
 "nbformat_minor": 5
}
